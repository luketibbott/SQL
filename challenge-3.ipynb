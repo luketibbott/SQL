{
 "cells": [
  {
   "cell_type": "code",
   "execution_count": null,
   "metadata": {},
   "outputs": [],
   "source": [
    "import sqlite3\n",
    "import numpy as np"
   ]
  },
  {
   "cell_type": "code",
   "execution_count": null,
   "metadata": {},
   "outputs": [],
   "source": [
    "!ls"
   ]
  },
  {
   "cell_type": "markdown",
   "metadata": {},
   "source": [
    "**Question 1:** Which team scored the most points when playing at home?"
   ]
  },
  {
   "cell_type": "code",
   "execution_count": null,
   "metadata": {},
   "outputs": [],
   "source": [
    "conn = sqlite3.connect('database.sqlite')"
   ]
  },
  {
   "cell_type": "code",
   "execution_count": null,
   "metadata": {},
   "outputs": [],
   "source": [
    "c = conn.cursor()"
   ]
  },
  {
   "cell_type": "code",
   "execution_count": null,
   "metadata": {},
   "outputs": [],
   "source": [
    "conn"
   ]
  },
  {
   "cell_type": "code",
   "execution_count": null,
   "metadata": {},
   "outputs": [],
   "source": [
    "list(c.execute('''SELECT SUM(m.home_team_goal), t.team_long_name\n",
    "                  FROM Match m\n",
    "                  JOIN Team t\n",
    "                  ON team_api_id = home_team_api_id\n",
    "                  GROUP BY 2\n",
    "                  ORDER BY 1 DESC\n",
    "                  LIMIT 1;'''))"
   ]
  },
  {
   "cell_type": "markdown",
   "metadata": {},
   "source": [
    "Real Madrid CF scored the most goals at home. They scored 505 goals at home.\n",
    "\n",
    "**Question 2:** Did this team also score the most points when playing away?"
   ]
  },
  {
   "cell_type": "code",
   "execution_count": null,
   "metadata": {},
   "outputs": [],
   "source": [
    "list(c.execute('''SELECT SUM(m.away_team_goal), t.team_long_name\n",
    "                  FROM Match m\n",
    "                  JOIN Team t\n",
    "                  ON team_api_id = away_team_api_id\n",
    "                  GROUP BY 2\n",
    "                  ORDER BY 1 DESC\n",
    "                  LIMIT 1;'''))"
   ]
  },
  {
   "cell_type": "markdown",
   "metadata": {},
   "source": [
    "**Answer:** No. FC Barcelona scored the most points while away.\n",
    "\n",
    "**Question 3:** How many matches resulted in a tie?"
   ]
  },
  {
   "cell_type": "code",
   "execution_count": null,
   "metadata": {},
   "outputs": [],
   "source": [
    "ties = list(c.execute('''SELECT COUNT(*)\n",
    "                  FROM Match m\n",
    "                  WHERE m.home_team_goal = m.away_team_goal;'''))\n",
    "\n",
    "ties"
   ]
  },
  {
   "cell_type": "markdown",
   "metadata": {},
   "source": [
    "**Answer:** 6596 matches ended in ties.\n",
    "\n",
    "**Question 4:** How many players have Smith for their last name? How many have 'smith' anywhere in their name?"
   ]
  },
  {
   "cell_type": "code",
   "execution_count": null,
   "metadata": {},
   "outputs": [],
   "source": [
    "names = list(c.execute('''SELECT COUNT(*)\n",
    "                          FROM Player pa\n",
    "                          WHERE pa.player_name LIKE '%Smith' '''))"
   ]
  },
  {
   "cell_type": "code",
   "execution_count": null,
   "metadata": {},
   "outputs": [],
   "source": [
    "names_anywhere = list(c.execute('''SELECT COUNT(*)\n",
    "                          FROM Player pa\n",
    "                          WHERE pa.player_name LIKE '%Smith%' '''))"
   ]
  },
  {
   "cell_type": "code",
   "execution_count": null,
   "metadata": {},
   "outputs": [],
   "source": [
    "print(names)\n",
    "print(names_anywhere)"
   ]
  },
  {
   "cell_type": "markdown",
   "metadata": {},
   "source": [
    "**Answer:** 18 for both.\n",
    "\n",
    "**Question 5:** What was the median tie score? Use the value determined in the previous question for the number of tie games. Hint: PostgreSQL does not have a median function. Instead, think about the steps required to calculate a median and use the WITH command to store stepwise results as a table and then operate on these results."
   ]
  },
  {
   "cell_type": "code",
   "execution_count": null,
   "metadata": {},
   "outputs": [],
   "source": [
    "tie_scores = list(c.execute('''WITH t1 AS (SELECT COUNT(*)\n",
    "                               FROM Match m\n",
    "                               WHERE m.home_team_goal = m.away_team_goal),\n",
    "                               \n",
    "                               t2 AS (SELECT m.home_team_goal AS score\n",
    "                               FROM Match m\n",
    "                               WHERE m.home_team_goal = m.away_team_goal\n",
    "                               ORDER BY 1 ASC\n",
    "                               LIMIT (SELECT * FROM t1)/2)\n",
    "                               \n",
    "                               SELECT t2.score\n",
    "                               FROM t2\n",
    "                               ORDER BY 1 DESC \n",
    "                               LIMIT 1'''))"
   ]
  },
  {
   "cell_type": "code",
   "execution_count": null,
   "metadata": {},
   "outputs": [],
   "source": [
    "tie_scores[0][0]"
   ]
  },
  {
   "cell_type": "markdown",
   "metadata": {},
   "source": [
    "Median tie score is 1."
   ]
  },
  {
   "cell_type": "markdown",
   "metadata": {},
   "source": [
    "**Question 6:** What percentage of players prefer their left or right foot? Hint: Calculate either the right or left foot, whichever is easier based on how you setup the problem."
   ]
  },
  {
   "cell_type": "code",
   "execution_count": null,
   "metadata": {},
   "outputs": [],
   "source": [
    "list(c.execute('''\n",
    "                SELECT \n",
    "                FROM player_attributes\n",
    "               '''))"
   ]
  },
  {
   "cell_type": "code",
   "execution_count": null,
   "metadata": {},
   "outputs": [],
   "source": [
    "list(c.execute('''\n",
    "                  WITH t1 AS (SELECT DISTINCT player_fifa_api_id, CASE preferred_foot WHEN 'right' THEN 1\n",
    "                              WHEN 'left' THEN 0\n",
    "                              END AS foot\n",
    "                              FROM player_attributes\n",
    "                              WHERE preferred_foot IS NOT NULL)\n",
    "                    \n",
    "                  SELECT AVG(t1.foot)\n",
    "                  FROM t1 \n",
    "                '''))"
   ]
  },
  {
   "cell_type": "markdown",
   "metadata": {},
   "source": [
    "73.7% of players are right footed."
   ]
  },
  {
   "cell_type": "code",
   "execution_count": null,
   "metadata": {},
   "outputs": [],
   "source": []
  }
 ],
 "metadata": {
  "kernelspec": {
   "display_name": "Python 3",
   "language": "python",
   "name": "python3"
  },
  "language_info": {
   "codemirror_mode": {
    "name": "ipython",
    "version": 3
   },
   "file_extension": ".py",
   "mimetype": "text/x-python",
   "name": "python",
   "nbconvert_exporter": "python",
   "pygments_lexer": "ipython3",
   "version": "3.6.5"
  }
 },
 "nbformat": 4,
 "nbformat_minor": 2
}
